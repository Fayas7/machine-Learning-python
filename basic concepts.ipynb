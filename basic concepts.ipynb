{
 "cells": [
  {
   "cell_type": "markdown",
   "metadata": {},
   "source": [
    "Machine learning is the set of techniques to make computers better at doing things that humans can dio better."
   ]
  },
  {
   "cell_type": "markdown",
   "metadata": {},
   "source": [
    "Maachine Learning is divided into 2:\n",
    "1.Deep Learning\n",
    "2.Mathematical models"
   ]
  },
  {
   "cell_type": "markdown",
   "metadata": {},
   "source": [
    "Machine Learning Applications:\n",
    "1.spam mail\n",
    "2.Personal Assistant devices like alexa .\n",
    "3.You tube recommendation\n",
    "4.Driverless cars"
   ]
  }
 ],
 "metadata": {
  "language_info": {
   "name": "python"
  }
 },
 "nbformat": 4,
 "nbformat_minor": 2
}
